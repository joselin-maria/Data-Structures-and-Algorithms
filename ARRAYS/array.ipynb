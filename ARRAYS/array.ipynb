{
  "nbformat": 4,
  "nbformat_minor": 0,
  "metadata": {
    "colab": {
      "provenance": [],
      "authorship_tag": "ABX9TyOMaM0u+AjlfP0TYk5rq9u2",
      "include_colab_link": true
    },
    "kernelspec": {
      "name": "python3",
      "display_name": "Python 3"
    },
    "language_info": {
      "name": "python"
    }
  },
  "cells": [
    {
      "cell_type": "markdown",
      "metadata": {
        "id": "view-in-github",
        "colab_type": "text"
      },
      "source": [
        "<a href=\"https://colab.research.google.com/github/joselin-maria/Data-Structures-and-Algorithms/blob/main/array.ipynb\" target=\"_parent\"><img src=\"https://colab.research.google.com/assets/colab-badge.svg\" alt=\"Open In Colab\"/></a>"
      ]
    },
    {
      "cell_type": "code",
      "execution_count": null,
      "metadata": {
        "id": "CYGc8-WzWkQ0"
      },
      "outputs": [],
      "source": [
        "# Python program for searching in\n",
        "# unsorted array\n",
        "\n",
        "\n",
        "def findElement(arr, n, key):\n",
        "\tfor i in range(n):\n",
        "\t\tif (arr[i] == key):\n",
        "\t\t\treturn i\n",
        "\n",
        "\t# If the key is not found\n",
        "\treturn -1\n",
        "\n",
        "\n",
        "# Driver's code\n",
        "if __name__ == '__main__':\n",
        "\tarr = [12, 34, 10, 6, 40]\n",
        "\tkey = 40\n",
        "\tn = len(arr)\n",
        "\n",
        "\t# search operation\n",
        "\tindex = findElement(arr, n, key)\n",
        "\tif index != -1:\n",
        "\t\tprint(\"Element Found at position: \" + str(index + 1))\n",
        "\telse:\n",
        "\t\tprint(\"Element not found\")\n",
        "\n",
        "\t# Thanks to Aditi Sharma for contributing\n",
        "\t# this code\n"
      ]
    }
  ]
}
